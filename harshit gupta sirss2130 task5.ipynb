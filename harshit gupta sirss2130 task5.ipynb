{
 "cells": [
  {
   "cell_type": "markdown",
   "id": "d2da9bc6",
   "metadata": {},
   "source": [
    "# TASK-5"
   ]
  },
  {
   "cell_type": "markdown",
   "id": "0a3644ea",
   "metadata": {},
   "source": [
    "# Reg id:- SIRSS2130"
   ]
  },
  {
   "cell_type": "markdown",
   "id": "5b357d24",
   "metadata": {},
   "source": [
    "# HARSHIT GUPTA"
   ]
  },
  {
   "cell_type": "markdown",
   "id": "fec401d3",
   "metadata": {},
   "source": [
    "# Q1. Given a list of integers, write a function to return the sum of all prime numbers in that list."
   ]
  },
  {
   "cell_type": "code",
   "execution_count": 5,
   "id": "b8c38a18",
   "metadata": {},
   "outputs": [
    {
     "name": "stdout",
     "output_type": "stream",
     "text": [
      "2 3 5 8 9 2 5 4\n",
      "sum of all prime numbers in  list  [2, 3, 5, 8, 9, 2, 5, 4] is : 17\n"
     ]
    }
   ],
   "source": [
    "l= list(map(int,input().split()))\n",
    "def primesum(l):\n",
    "    n=len(l)\n",
    "    sum=0\n",
    "    for i in range (0,n):\n",
    "        p=l[i]\n",
    "        for i in range(2,p):\n",
    "            if(p%i==0):\n",
    "                break\n",
    "        if (i==p-1 or p ==2):\n",
    "            sum = sum + p\n",
    "    return sum\n",
    "\n",
    "sum = primesum(l)\n",
    "print(\"sum of all prime numbers in  list \", l,\"is :\", sum)"
   ]
  },
  {
   "cell_type": "markdown",
   "id": "f1cfd3ab",
   "metadata": {},
   "source": [
    "# Q2. Given a list of integers, write a function to check whether the list is strictly increasing or not."
   ]
  },
  {
   "cell_type": "code",
   "execution_count": 7,
   "id": "6ae8ea99",
   "metadata": {},
   "outputs": [
    {
     "name": "stdout",
     "output_type": "stream",
     "text": [
      "2 3 4 2\n",
      "strictly not increasing\n"
     ]
    }
   ],
   "source": [
    "l= list(map(int,input().split()))\n",
    "def increase(l):\n",
    "    n=len(l)\n",
    "    for i in range (0,n-1):\n",
    "        if (l[i]>l[i+1]):\n",
    "            break\n",
    "    if(i== n-2 and l[n-2]<=l[n-1]):\n",
    "        print(\"strictly increasing\")\n",
    "    else:\n",
    "        print(\"strictly not increasing\")\n",
    "increase(l)"
   ]
  },
  {
   "cell_type": "markdown",
   "id": "cb074d51",
   "metadata": {},
   "source": [
    "# Q3. Write a function to check whether a given list is expanding or not (the difference between adjacent elements should keep on increasing)."
   ]
  },
  {
   "cell_type": "code",
   "execution_count": 9,
   "id": "3f91da8a",
   "metadata": {},
   "outputs": [
    {
     "name": "stdout",
     "output_type": "stream",
     "text": [
      "2 3 4 6 7\n",
      "strictly not increasing\n"
     ]
    }
   ],
   "source": [
    "l= list(map(int,input().split()))\n",
    "def increase(l):\n",
    "    n=len(l)\n",
    "    for i in range (1,n-1):\n",
    "        d1=abs(l[i]-l[i-1])\n",
    "        d2=abs(l[i+1]-l[i])\n",
    "        if (d1>d2):\n",
    "            break\n",
    "    if(i== n-2 and d1<=d2):\n",
    "        print(\"strictly increasing\")\n",
    "    else:\n",
    "        print(\"strictly not increasing\")\n",
    "increase(l)"
   ]
  },
  {
   "cell_type": "markdown",
   "id": "ddf7d6a6",
   "metadata": {},
   "source": [
    "# Q4. Write a function to calculate all permutations of a given string. (Without using itertools)"
   ]
  },
  {
   "cell_type": "code",
   "execution_count": 10,
   "id": "1cfb63f8",
   "metadata": {},
   "outputs": [
    {
     "name": "stdout",
     "output_type": "stream",
     "text": [
      "Enter the String : harsh\n"
     ]
    },
    {
     "data": {
      "text/plain": [
       "['harsh',\n",
       " 'ahrsh',\n",
       " 'arhsh',\n",
       " 'arshh',\n",
       " 'arshh',\n",
       " 'hrash',\n",
       " 'rhash',\n",
       " 'rahsh',\n",
       " 'rashh',\n",
       " 'rashh',\n",
       " 'hrsah',\n",
       " 'rhsah',\n",
       " 'rshah',\n",
       " 'rsahh',\n",
       " 'rsahh',\n",
       " 'hrsha',\n",
       " 'rhsha',\n",
       " 'rshha',\n",
       " 'rshha',\n",
       " 'rshah',\n",
       " 'hasrh',\n",
       " 'ahsrh',\n",
       " 'ashrh',\n",
       " 'asrhh',\n",
       " 'asrhh',\n",
       " 'hsarh',\n",
       " 'sharh',\n",
       " 'sahrh',\n",
       " 'sarhh',\n",
       " 'sarhh',\n",
       " 'hsrah',\n",
       " 'shrah',\n",
       " 'srhah',\n",
       " 'srahh',\n",
       " 'srahh',\n",
       " 'hsrha',\n",
       " 'shrha',\n",
       " 'srhha',\n",
       " 'srhha',\n",
       " 'srhah',\n",
       " 'hashr',\n",
       " 'ahshr',\n",
       " 'ashhr',\n",
       " 'ashhr',\n",
       " 'ashrh',\n",
       " 'hsahr',\n",
       " 'shahr',\n",
       " 'sahhr',\n",
       " 'sahhr',\n",
       " 'sahrh',\n",
       " 'hshar',\n",
       " 'shhar',\n",
       " 'shhar',\n",
       " 'shahr',\n",
       " 'sharh',\n",
       " 'hshra',\n",
       " 'shhra',\n",
       " 'shhra',\n",
       " 'shrha',\n",
       " 'shrah',\n",
       " 'harhs',\n",
       " 'ahrhs',\n",
       " 'arhhs',\n",
       " 'arhhs',\n",
       " 'arhsh',\n",
       " 'hrahs',\n",
       " 'rhahs',\n",
       " 'rahhs',\n",
       " 'rahhs',\n",
       " 'rahsh',\n",
       " 'hrhas',\n",
       " 'rhhas',\n",
       " 'rhhas',\n",
       " 'rhahs',\n",
       " 'rhash',\n",
       " 'hrhsa',\n",
       " 'rhhsa',\n",
       " 'rhhsa',\n",
       " 'rhsha',\n",
       " 'rhsah',\n",
       " 'hahrs',\n",
       " 'ahhrs',\n",
       " 'ahhrs',\n",
       " 'ahrhs',\n",
       " 'ahrsh',\n",
       " 'hhars',\n",
       " 'hhars',\n",
       " 'hahrs',\n",
       " 'harhs',\n",
       " 'harsh',\n",
       " 'hhras',\n",
       " 'hhras',\n",
       " 'hrhas',\n",
       " 'hrahs',\n",
       " 'hrash',\n",
       " 'hhrsa',\n",
       " 'hhrsa',\n",
       " 'hrhsa',\n",
       " 'hrsha',\n",
       " 'hrsah',\n",
       " 'hahsr',\n",
       " 'ahhsr',\n",
       " 'ahhsr',\n",
       " 'ahshr',\n",
       " 'ahsrh',\n",
       " 'hhasr',\n",
       " 'hhasr',\n",
       " 'hahsr',\n",
       " 'hashr',\n",
       " 'hasrh',\n",
       " 'hhsar',\n",
       " 'hhsar',\n",
       " 'hshar',\n",
       " 'hsahr',\n",
       " 'hsarh',\n",
       " 'hhsra',\n",
       " 'hhsra',\n",
       " 'hshra',\n",
       " 'hsrha',\n",
       " 'hsrah']"
      ]
     },
     "execution_count": 10,
     "metadata": {},
     "output_type": "execute_result"
    }
   ],
   "source": [
    "def permutation(str) :\n",
    "    if len(str) == 1 :\n",
    "        return [str]\n",
    "    prmts = permutation(str[1:])\n",
    "    fst = str[0]\n",
    "    rslt = []\n",
    "    for i in prmts :\n",
    "        for j in range(len(i)+1) :\n",
    "            rslt.append(i[:j] + fst + i[j:])\n",
    "    return rslt\n",
    "\n",
    "\n",
    "inp = str(input(\"Enter the String : \"))\n",
    "permutation(inp)"
   ]
  },
  {
   "cell_type": "code",
   "execution_count": null,
   "id": "47c95c4f",
   "metadata": {},
   "outputs": [],
   "source": []
  }
 ],
 "metadata": {
  "kernelspec": {
   "display_name": "Python 3",
   "language": "python",
   "name": "python3"
  },
  "language_info": {
   "codemirror_mode": {
    "name": "ipython",
    "version": 3
   },
   "file_extension": ".py",
   "mimetype": "text/x-python",
   "name": "python",
   "nbconvert_exporter": "python",
   "pygments_lexer": "ipython3",
   "version": "3.8.8"
  }
 },
 "nbformat": 4,
 "nbformat_minor": 5
}
